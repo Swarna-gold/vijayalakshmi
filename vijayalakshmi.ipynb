{
  "nbformat": 4,
  "nbformat_minor": 0,
  "metadata": {
    "colab": {
      "name": "swarna.ipynb",
      "provenance": [],
      "collapsed_sections": []
    },
    "kernelspec": {
      "name": "python3",
      "display_name": "Python 3"
    },
    "language_info": {
      "name": "python"
    }
  },
  "cells": [
    {
      "cell_type": "code",
      "metadata": {
        "id": "aBtWr3MhUuBJ",
        "colab": {
          "base_uri": "https://localhost:8080/",
          "height": 128
        },
        "outputId": "911b65f8-bb30-4c5e-bba5-f11617e5b942"
      },
      "source": [
        "const  express=require(\"express\");\n",
        "const bodyparser=require(\"body-parser\");\n",
        "const app=express();\n",
        "app.use(body.parserurlencoded({extended:true}));\n",
        "app.get(\"/\",function(req,res){\n",
        "    res.sendFile(__dirname+\"/index.html\");\n",
        "});\n",
        "app.post(\"/\",function(req,res){\n",
        "    var n1=req.body.num1;\n",
        "    var n2=req.body.num2;\n",
        "    res.send(\"Thanks for posting the form\");\n",
        "});\n",
        "app.listen(3000,function(){\n",
        "    console.log(\"Server has started on port 3000\");\n",
        "});\n"
      ],
      "execution_count": 6,
      "outputs": [
        {
          "output_type": "error",
          "ename": "SyntaxError",
          "evalue": "ignored",
          "traceback": [
            "\u001b[0;36m  File \u001b[0;32m\"<ipython-input-6-6f2e30a9e370>\"\u001b[0;36m, line \u001b[0;32m1\u001b[0m\n\u001b[0;31m    const  express=require(\"express\");\u001b[0m\n\u001b[0m                 ^\u001b[0m\n\u001b[0;31mSyntaxError\u001b[0m\u001b[0;31m:\u001b[0m invalid syntax\n"
          ]
        }
      ]
    },
    {
      "cell_type": "code",
      "metadata": {
        "id": "pngG4XAaXEJd"
      },
      "source": [
        ""
      ],
      "execution_count": null,
      "outputs": []
    },
    {
      "cell_type": "code",
      "metadata": {
        "id": "iVqmvG0rXEiR"
      },
      "source": [
        ""
      ],
      "execution_count": null,
      "outputs": []
    },
    {
      "cell_type": "markdown",
      "metadata": {
        "id": "C55juXrIXEtC"
      },
      "source": [
        ""
      ]
    },
    {
      "cell_type": "code",
      "metadata": {
        "id": "qbWPuTWaXFCB"
      },
      "source": [
        ""
      ],
      "execution_count": null,
      "outputs": []
    }
  ]
}